{
 "cells": [
  {
   "cell_type": "code",
   "execution_count": 1,
   "metadata": {},
   "outputs": [],
   "source": [
    "import sqlite3\n",
    "import pandas as pd\n"
   ]
  },
  {
   "cell_type": "code",
   "execution_count": 18,
   "metadata": {},
   "outputs": [],
   "source": [
    "# Connect to SQLite database (creates file if not exists)\n",
    "conn = sqlite3.connect(\"database.db\")\n",
    "cursor = conn.cursor()"
   ]
  },
  {
   "cell_type": "code",
   "execution_count": 79,
   "metadata": {},
   "outputs": [],
   "source": [
    " #Step 2: Create a table (Modify column names based on CSV structure)\n",
    "cursor.execute(\"\"\"\n",
    "CREATE TABLE IF NOT EXISTS snapdeal_data (\n",
    "    id INTEGER PRIMARY KEY AUTOINCREMENT,\n",
    "    Product_name TEXT,\n",
    "    Price float,\n",
    "    Rating REAL,\n",
    "    stock status integer           \n",
    ")\n",
    "\"\"\")\n",
    "conn.commit()\n"
   ]
  },
  {
   "cell_type": "code",
   "execution_count": 65,
   "metadata": {},
   "outputs": [],
   "source": [
    "# Step 3: Load the CSV file\n",
    "csv_file = \"D:\\\\WebNeuralInfotech\\\\Data Cleaning\\\\cleaned_snapdeal_data.csv\"  # Path where your file is stored\n",
    "df = pd.read_csv(csv_file)"
   ]
  },
  {
   "cell_type": "code",
   "execution_count": 66,
   "metadata": {},
   "outputs": [
    {
     "data": {
      "text/plain": [
       "19"
      ]
     },
     "execution_count": 66,
     "metadata": {},
     "output_type": "execute_result"
    }
   ],
   "source": [
    "# Step 4: Insert data into the table\n",
    "df.to_sql(\"snapdeal_data\", conn, if_exists=\"replace\", index=False)\n"
   ]
  },
  {
   "cell_type": "code",
   "execution_count": 68,
   "metadata": {},
   "outputs": [
    {
     "name": "stdout",
     "output_type": "stream",
     "text": [
      "                                        Product Name  Price  Rating  \\\n",
      "0  Needx Silver 1.8 litres Stainless Steel Multif...    584    92.0   \n",
      "1  Mini Electric 150 Watt Stainless Steel Mixer G...    498    76.0   \n",
      "2  Orpat - Express Chopper Purple Electric Push B...   1026    90.0   \n",
      "3  Orpat - Express Chopper White Electric Push Bu...   1026    90.0   \n",
      "4  SmartBucket - Dispenser Tap Compatible with No...    177    92.0   \n",
      "\n",
      "      Category  Stock Status  \n",
      "0  Electronics             0  \n",
      "1  Electronics             0  \n",
      "2  Electronics             0  \n",
      "3  Electronics             0  \n",
      "4  Electronics             0  \n"
     ]
    }
   ],
   "source": [
    "# Step 5: Query data to check if insertion was successful\n",
    "query = \"SELECT * FROM snapdeal_data LIMIT 5\"\n",
    "result = pd.read_sql_query(query, conn)\n",
    "print(result)\n"
   ]
  },
  {
   "cell_type": "code",
   "execution_count": 72,
   "metadata": {},
   "outputs": [
    {
     "name": "stdout",
     "output_type": "stream",
     "text": [
      "                                        Product Name  Price  Rating  \\\n",
      "0  Mini Electric 150 Watt Stainless Steel Mixer G...    498    76.0   \n",
      "\n",
      "      Category  Stock Status  \n",
      "0  Electronics             0  \n"
     ]
    }
   ],
   "source": [
    "# retrieve products whose rating is less than 80\n",
    "df = pd.read_sql_query(\"SELECT * FROM snapdeal_data WHERE Rating < 80\", conn)\n",
    "print(df)"
   ]
  },
  {
   "cell_type": "code",
   "execution_count": 73,
   "metadata": {},
   "outputs": [
    {
     "name": "stdout",
     "output_type": "stream",
     "text": [
      "('Needx Silver 1.8 litres Stainless Steel Multifunctional Kettle', 584, 92.0, 'Electronics', 0)\n",
      "('Mini Electric 150 Watt Stainless Steel Mixer Grinder', 498, 76.0, 'Electronics', 0)\n",
      "('Orpat - Express Chopper Purple Electric Push Button Chopper 250W', 1026, 90.0, 'Electronics', 0)\n",
      "('Orpat - Express Chopper White Electric Push Button Chopper 250W', 1026, 90.0, 'Electronics', 0)\n",
      "('SmartBucket - Dispenser Tap Compatible with Non Electric Water Purifiers', 177, 92.0, 'Electronics', 0)\n",
      "('Milton Go Electro 1.5 Stainless Steel Electric Kettle, 1 Piece, 1500 ml, Silver | Power Indicator | 1500 Watts | Auto Cut-off | Detachable 360 Degree Connector | Boiler for Water', 749, 86.0, 'Electronics', 0)\n",
      "('Scarlett - Silver 2 litres Stainless Steel Water and Tea & Soups', 666, 86.0, 'Electronics', 0)\n",
      "('Milton Go Electro 2.0 Stainless Steel Electric Kettle, 1 Piece, 2000 ml, Silver | Power Indicator | 1500 Watts | Auto Cut-off | Detachable 360 Degree Connector | Boiler for Water', 799, 84.0, 'Electronics', 0)\n",
      "('Milton Go Electro 1.2 Stainless Steel Electric Kettle, 1 Piece, 1200 ml, Silver | Power Indicator | 1500 Watts | Auto Cut-off | Detachable 360 Degree Connector | Boiler for Water', 699, 84.0, 'Electronics', 0)\n",
      "('2 In 1 Multifunctional Steaming Device Frying Pan Egg Boiling Roasting Heating Electric Egg Cooker Poacher Boiler - EGBOR', 525, 84.0, 'Electronics', 0)\n",
      "('sell4you - Dispenser Tap Compatible with Non Electric Water Purifiers', 135, 84.0, 'Electronics', 0)\n",
      "('Milton Green 1.5 litres Stainless Steel Multifunctional Kettle', 1399, 84.0, 'Electronics', 0)\n",
      "('Milton Combo Set Go Electro Stainless Steel Kettle, 1.5 Litres, Silver and Aqua 750 Stainless Steel Water Bottle, 750 ml, Silver | Office | Home | Kitchen | Travel Water Bottle', 1072, 84.0, 'Electronics', 0)\n",
      "('Rock Light Electric Corded Clipper ( Multi )', 449, 84.0, 'Electronics', 0)\n",
      "('Goodflame Megna Iron Dry Electric Iron(Electric Iron,White)', 682, 82.0, 'Electronics', 0)\n",
      "('OMLITE - egg steamer 1 Ltr PP Plastic Open Lid Egg Boiler', 413, 82.0, 'Electronics', 0)\n",
      "('purple dust - Dispenser Tap Compatible with Non Electric Water Purifiers', 181, 82.0, 'Electronics', 0)\n",
      "('Scarlett - Silver 2 litres Stainless Steel Water and Tea & Soups', 666, 80.0, 'Electronics', 0)\n",
      "('VALLEY GREEN Dispenser Tap Compatible with Non Electric Water Purifiers', 164, 80.0, 'Electronics', 0)\n"
     ]
    }
   ],
   "source": [
    "## Query the data from the table\n",
    "cursor.execute('Select * from snapdeal_data')\n",
    "rows=cursor.fetchall()\n",
    "\n",
    "#Print the queried data\n",
    "for row in rows:\n",
    "    print(row)"
   ]
  },
  {
   "cell_type": "code",
   "execution_count": 38,
   "metadata": {},
   "outputs": [
    {
     "name": "stdout",
     "output_type": "stream",
     "text": [
      "                                        Product Name  Price  Rating  \\\n",
      "0  Needx Silver 1.8 litres Stainless Steel Multif...    584    92.0   \n",
      "1  Mini Electric 150 Watt Stainless Steel Mixer G...    498    76.0   \n",
      "2  Orpat - Express Chopper Purple Electric Push B...   1026    90.0   \n",
      "3  Orpat - Express Chopper White Electric Push Bu...   1026    90.0   \n",
      "4  SmartBucket - Dispenser Tap Compatible with No...    177    92.0   \n",
      "5  Milton Go Electro 1.5 Stainless Steel Electric...    749    86.0   \n",
      "6  Scarlett - Silver 2 litres Stainless Steel Wat...    666    86.0   \n",
      "7  Milton Go Electro 2.0 Stainless Steel Electric...    799    84.0   \n",
      "8  Milton Go Electro 1.2 Stainless Steel Electric...    699    84.0   \n",
      "9  2 In 1 Multifunctional Steaming Device Frying ...    525    84.0   \n",
      "\n",
      "      Category  Stock Status  \n",
      "0  Electronics             0  \n",
      "1  Electronics             0  \n",
      "2  Electronics             0  \n",
      "3  Electronics             0  \n",
      "4  Electronics             0  \n",
      "5  Electronics             0  \n",
      "6  Electronics             0  \n",
      "7  Electronics             0  \n",
      "8  Electronics             0  \n",
      "9  Electronics             0  \n"
     ]
    }
   ],
   "source": [
    "#select first 10 products\n",
    "query = \"SELECT * FROM snapdeal_data LIMIT 10\"\n",
    "df = pd.read_sql_query(query, conn)\n",
    "print(df)"
   ]
  },
  {
   "cell_type": "code",
   "execution_count": 78,
   "metadata": {},
   "outputs": [
    {
     "name": "stdout",
     "output_type": "stream",
     "text": [
      "(0, 'Product Name', 'TEXT', 0, None, 0)\n",
      "(1, 'Price', 'INTEGER', 0, None, 0)\n",
      "(2, 'Rating', 'REAL', 0, None, 0)\n",
      "(3, 'Category', 'TEXT', 0, None, 0)\n",
      "(4, 'Stock Status', 'INTEGER', 0, None, 0)\n"
     ]
    }
   ],
   "source": [
    "# Query to get column names\n",
    "cursor.execute(\"PRAGMA table_info(snapdeal_data);\")\n",
    "columns = cursor.fetchall()\n",
    "\n",
    "for col in columns:\n",
    "    print(col)"
   ]
  },
  {
   "cell_type": "code",
   "execution_count": 74,
   "metadata": {},
   "outputs": [
    {
     "name": "stdout",
     "output_type": "stream",
     "text": [
      "('Milton Go Electro 2.0 Stainless Steel Electric Kettle, 1 Piece, 2000 ml, Silver | Power Indicator | 1500 Watts | Auto Cut-off | Detachable 360 Degree Connector | Boiler for Water', 799, 84.0)\n",
      "('Milton Go Electro 1.5 Stainless Steel Electric Kettle, 1 Piece, 1500 ml, Silver | Power Indicator | 1500 Watts | Auto Cut-off | Detachable 360 Degree Connector | Boiler for Water', 749, 86.0)\n",
      "('Milton Go Electro 1.2 Stainless Steel Electric Kettle, 1 Piece, 1200 ml, Silver | Power Indicator | 1500 Watts | Auto Cut-off | Detachable 360 Degree Connector | Boiler for Water', 699, 84.0)\n",
      "('Goodflame Megna Iron Dry Electric Iron(Electric Iron,White)', 682, 82.0)\n",
      "('Scarlett - Silver 2 litres Stainless Steel Water and Tea & Soups', 666, 86.0)\n",
      "('Scarlett - Silver 2 litres Stainless Steel Water and Tea & Soups', 666, 80.0)\n",
      "('Needx Silver 1.8 litres Stainless Steel Multifunctional Kettle', 584, 92.0)\n",
      "('2 In 1 Multifunctional Steaming Device Frying Pan Egg Boiling Roasting Heating Electric Egg Cooker Poacher Boiler - EGBOR', 525, 84.0)\n",
      "('Mini Electric 150 Watt Stainless Steel Mixer Grinder', 498, 76.0)\n",
      "('Rock Light Electric Corded Clipper ( Multi )', 449, 84.0)\n",
      "('OMLITE - egg steamer 1 Ltr PP Plastic Open Lid Egg Boiler', 413, 82.0)\n",
      "('purple dust - Dispenser Tap Compatible with Non Electric Water Purifiers', 181, 82.0)\n",
      "('SmartBucket - Dispenser Tap Compatible with Non Electric Water Purifiers', 177, 92.0)\n",
      "('VALLEY GREEN Dispenser Tap Compatible with Non Electric Water Purifiers', 164, 80.0)\n",
      "('sell4you - Dispenser Tap Compatible with Non Electric Water Purifiers', 135, 84.0)\n"
     ]
    }
   ],
   "source": [
    "# query to get data whose price less than 1000\n",
    "top = cursor.execute('''\n",
    "                   SELECT \"Product Name\", Price, Rating\n",
    "                   FROM snapdeal_data\n",
    "                   WHERE Price < 1000\n",
    "                   ORDER BY Price DESC;\n",
    "''')\n",
    "\n",
    "top = cursor.fetchall()  # Fetch all results\n",
    "\n",
    "# Print each row separately\n",
    "for row in top:\n",
    "    print(row)  # Prints each row one by one"
   ]
  },
  {
   "cell_type": "code",
   "execution_count": 33,
   "metadata": {},
   "outputs": [
    {
     "name": "stdout",
     "output_type": "stream",
     "text": [
      "                                        Product Name  Price  Rating  \\\n",
      "0  Orpat - Express Chopper Purple Electric Push B...   1026    90.0   \n",
      "1  Orpat - Express Chopper White Electric Push Bu...   1026    90.0   \n",
      "2  Milton Green 1.5 litres Stainless Steel Multif...   1399    84.0   \n",
      "3  Milton Combo Set Go Electro Stainless Steel Ke...   1072    84.0   \n",
      "\n",
      "      Category  Stock Status  \n",
      "0  Electronics             0  \n",
      "1  Electronics             0  \n",
      "2  Electronics             0  \n",
      "3  Electronics             0  \n"
     ]
    }
   ],
   "source": [
    "# retrieve data whose price is greater than 1000.\n",
    "query = \"SELECT * FROM snapdeal_data WHERE Price > 1000\"\n",
    "df = pd.read_sql_query(query, conn)\n",
    "print(df)"
   ]
  },
  {
   "cell_type": "code",
   "execution_count": 35,
   "metadata": {},
   "outputs": [
    {
     "name": "stdout",
     "output_type": "stream",
     "text": [
      "('Orpat - Express Chopper Purple Electric Push Button Chopper 250W', 1026, 90.0, 'Electronics', 0)\n",
      "('Orpat - Express Chopper White Electric Push Button Chopper 250W', 1026, 90.0, 'Electronics', 0)\n",
      "('Milton Green 1.5 litres Stainless Steel Multifunctional Kettle', 1399, 84.0, 'Electronics', 0)\n",
      "('Milton Combo Set Go Electro Stainless Steel Kettle, 1.5 Litres, Silver and Aqua 750 Stainless Steel Water Bottle, 750 ml, Silver | Office | Home | Kitchen | Travel Water Bottle', 1072, 84.0, 'Electronics', 0)\n"
     ]
    }
   ],
   "source": [
    "cursor.execute('SELECT * FROM snapdeal_data WHERE Price > 1000')\n",
    "row=cursor.fetchall()\n",
    "for row in row:\n",
    "    print(row)"
   ]
  },
  {
   "cell_type": "code",
   "execution_count": 58,
   "metadata": {},
   "outputs": [
    {
     "name": "stdout",
     "output_type": "stream",
     "text": [
      "Cheapest Product: ('sell4you - Dispenser Tap Compatible with Non Electric Water Purifiers', 135, 84.0)\n"
     ]
    }
   ],
   "source": [
    "#Finding cheapest product\n",
    "query = '''\n",
    "    SELECT \"Product Name\", Price, Rating\n",
    "    FROM snapdeal_data\n",
    "    ORDER BY Price ASC\n",
    "    LIMIT 1;\n",
    "'''\n",
    "cheapest = cursor.execute(query).fetchone()\n",
    "print(\"Cheapest Product:\", cheapest)"
   ]
  },
  {
   "cell_type": "code",
   "execution_count": 61,
   "metadata": {},
   "outputs": [
    {
     "name": "stdout",
     "output_type": "stream",
     "text": [
      "Cheapest Product: ('Milton Green 1.5 litres Stainless Steel Multifunctional Kettle', 1399, 84.0)\n"
     ]
    }
   ],
   "source": [
    "query = '''\n",
    "    SELECT \"Product Name\", Price, Rating\n",
    "    FROM snapdeal_data\n",
    "    ORDER BY Price DESC\n",
    "    LIMIT 1;\n",
    "'''\n",
    "expensive = cursor.execute(query).fetchone()\n",
    "print(\"Cheapest Product:\", expensive)"
   ]
  },
  {
   "cell_type": "code",
   "execution_count": 60,
   "metadata": {},
   "outputs": [
    {
     "name": "stdout",
     "output_type": "stream",
     "text": [
      "('Needx Silver 1.8 litres Stainless Steel Multifunctional Kettle', 584, 92.0)\n",
      "('SmartBucket - Dispenser Tap Compatible with Non Electric Water Purifiers', 177, 92.0)\n",
      "('Orpat - Express Chopper Purple Electric Push Button Chopper 250W', 1026, 90.0)\n",
      "('Orpat - Express Chopper White Electric Push Button Chopper 250W', 1026, 90.0)\n",
      "('Milton Go Electro 1.5 Stainless Steel Electric Kettle, 1 Piece, 1500 ml, Silver | Power Indicator | 1500 Watts | Auto Cut-off | Detachable 360 Degree Connector | Boiler for Water', 749, 86.0)\n",
      "('Scarlett - Silver 2 litres Stainless Steel Water and Tea & Soups', 666, 86.0)\n"
     ]
    }
   ],
   "source": [
    "#finding highest rating product\n",
    "query = '''\n",
    "    SELECT \"Product Name\", Price, Rating\n",
    "    FROM snapdeal_data\n",
    "    WHERE Rating > 85.0\n",
    "    ORDER BY Rating DESC;\n",
    "'''\n",
    "high_rated = cursor.execute(query).fetchall()\n",
    "\n",
    "for row in high_rated:\n",
    "    print(row)\n"
   ]
  },
  {
   "cell_type": "code",
   "execution_count": 63,
   "metadata": {},
   "outputs": [
    {
     "name": "stdout",
     "output_type": "stream",
     "text": [
      "('Milton Go Electro 2.0 Stainless Steel Electric Kettle, 1 Piece, 2000 ml, Silver | Power Indicator | 1500 Watts | Auto Cut-off | Detachable 360 Degree Connector | Boiler for Water', 799, 84.0)\n",
      "('Milton Go Electro 1.2 Stainless Steel Electric Kettle, 1 Piece, 1200 ml, Silver | Power Indicator | 1500 Watts | Auto Cut-off | Detachable 360 Degree Connector | Boiler for Water', 699, 84.0)\n",
      "('2 In 1 Multifunctional Steaming Device Frying Pan Egg Boiling Roasting Heating Electric Egg Cooker Poacher Boiler - EGBOR', 525, 84.0)\n",
      "('sell4you - Dispenser Tap Compatible with Non Electric Water Purifiers', 135, 84.0)\n",
      "('Milton Green 1.5 litres Stainless Steel Multifunctional Kettle', 1399, 84.0)\n",
      "('Milton Combo Set Go Electro Stainless Steel Kettle, 1.5 Litres, Silver and Aqua 750 Stainless Steel Water Bottle, 750 ml, Silver | Office | Home | Kitchen | Travel Water Bottle', 1072, 84.0)\n",
      "('Rock Light Electric Corded Clipper ( Multi )', 449, 84.0)\n",
      "('Goodflame Megna Iron Dry Electric Iron(Electric Iron,White)', 682, 82.0)\n",
      "('OMLITE - egg steamer 1 Ltr PP Plastic Open Lid Egg Boiler', 413, 82.0)\n",
      "('purple dust - Dispenser Tap Compatible with Non Electric Water Purifiers', 181, 82.0)\n",
      "('Scarlett - Silver 2 litres Stainless Steel Water and Tea & Soups', 666, 80.0)\n",
      "('VALLEY GREEN Dispenser Tap Compatible with Non Electric Water Purifiers', 164, 80.0)\n",
      "('Mini Electric 150 Watt Stainless Steel Mixer Grinder', 498, 76.0)\n"
     ]
    }
   ],
   "source": [
    "#finding lowest rating product\n",
    "query = '''\n",
    "    SELECT \"Product Name\", Price, Rating\n",
    "    FROM snapdeal_data\n",
    "    WHERE Rating < 85.0\n",
    "    ORDER BY Rating DESC;\n",
    "'''\n",
    "low_rated = cursor.execute(query).fetchall()\n",
    "\n",
    "for row in low_rated:\n",
    "    print(row)"
   ]
  }
 ],
 "metadata": {
  "kernelspec": {
   "display_name": "venv",
   "language": "python",
   "name": "python3"
  },
  "language_info": {
   "codemirror_mode": {
    "name": "ipython",
    "version": 3
   },
   "file_extension": ".py",
   "mimetype": "text/x-python",
   "name": "python",
   "nbconvert_exporter": "python",
   "pygments_lexer": "ipython3",
   "version": "3.12.3"
  }
 },
 "nbformat": 4,
 "nbformat_minor": 2
}
